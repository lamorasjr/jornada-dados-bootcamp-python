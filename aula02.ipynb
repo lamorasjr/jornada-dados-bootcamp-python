{
  "nbformat": 4,
  "nbformat_minor": 0,
  "metadata": {
    "colab": {
      "provenance": [],
      "authorship_tag": "ABX9TyMB335i7jhRZqt0O7XZiMap"
    },
    "kernelspec": {
      "name": "python3",
      "display_name": "Python 3"
    },
    "language_info": {
      "name": "python"
    }
  },
  "cells": [
    {
      "cell_type": "markdown",
      "source": [
        "# Bootcamp de Python para Dados ([Github](https://github.com/lvgalvao/data-engineering-roadmap/tree/main/Bootcamp%20-%20Python%20para%20dados))\n",
        "\n",
        "## Aula 02: TypeError, Type Check, Type Conversion, try-except e if"
      ],
      "metadata": {
        "id": "kqQ4nHemb7RU"
      }
    },
    {
      "cell_type": "markdown",
      "source": [
        "### 1) Integers\n"
      ],
      "metadata": {
        "id": "tLTIRGQBddB0"
      }
    },
    {
      "cell_type": "markdown",
      "source": [
        "**E1. Escreva um programa que soma dois números inteiros inseridos pelo usuário.**"
      ],
      "metadata": {
        "id": "50BfErsneRW_"
      }
    },
    {
      "cell_type": "code",
      "source": [
        "#inteiro_1 = int(input(\"Digite o primeiro numero: \"))\n",
        "#inteiro_2 = int(input(\"Digite o segundo numero: \"))\n",
        "inteiro_1 = 5\n",
        "inteiro_2 = 7\n",
        "\n",
        "\n",
        "soma = inteiro_1 + inteiro_2\n",
        "\n",
        "print(f\"A soma dos numeros é: {soma}\")"
      ],
      "metadata": {
        "colab": {
          "base_uri": "https://localhost:8080/"
        },
        "id": "lPzq7XUBdRvX",
        "outputId": "c11f8fad-4fca-4784-d6a2-4cbce4bda34b"
      },
      "execution_count": null,
      "outputs": [
        {
          "output_type": "stream",
          "name": "stdout",
          "text": [
            "A soma dos numeros é: 12\n"
          ]
        }
      ]
    },
    {
      "cell_type": "markdown",
      "source": [
        "**E2. Crie um programa que receba um número do usuário e calcule o resto da divisão desse número por 5.**"
      ],
      "metadata": {
        "id": "HpiLUymHeJvQ"
      }
    },
    {
      "cell_type": "code",
      "source": [
        "#num1 = int(input(\"Digite um numero \"))\n",
        "num1 = 13\n",
        "\n",
        "resto = num1 % 5\n",
        "\n",
        "print(f\"O resto da divisao e {resto}\")"
      ],
      "metadata": {
        "colab": {
          "base_uri": "https://localhost:8080/"
        },
        "id": "-T4PHHvJdwif",
        "outputId": "92abfb06-504e-4708-e383-fe1789eb0f8e"
      },
      "execution_count": null,
      "outputs": [
        {
          "output_type": "stream",
          "name": "stdout",
          "text": [
            "O resto da divisao e 3\n"
          ]
        }
      ]
    },
    {
      "cell_type": "markdown",
      "source": [
        "**E3. Desenvolva um programa que multiplique dois números fornecidos pelo usuário e mostre o resultado.**"
      ],
      "metadata": {
        "id": "CXVx0FGEhyA0"
      }
    },
    {
      "cell_type": "code",
      "source": [
        "# num1 = int(input(\"Digite o primeiro número: \"))\n",
        "# num2 = int(input(\"Digite o segundo número: \"))\n",
        "num1 = 5  # Exemplo de entrada\n",
        "num2 = 7  # Exemplo de entrada\n",
        "\n",
        "resultado_multiplicacao = num1 * num2\n",
        "\n",
        "print(\"O resultado da multiplicação é:\", resultado_multiplicacao)"
      ],
      "metadata": {
        "colab": {
          "base_uri": "https://localhost:8080/"
        },
        "id": "V_N0T_GSiR2H",
        "outputId": "eb54d4c9-eabb-4144-dbac-200299dd26c8"
      },
      "execution_count": null,
      "outputs": [
        {
          "output_type": "stream",
          "name": "stdout",
          "text": [
            "O resultado da multiplicação é: 35\n"
          ]
        }
      ]
    },
    {
      "cell_type": "markdown",
      "source": [
        "**E4. Faça um programa que peça dois números inteiros e imprima a divisão inteira do primeiro pelo segundo.**"
      ],
      "metadata": {
        "id": "AzdhwJjgh161"
      }
    },
    {
      "cell_type": "code",
      "source": [
        "# num1 = int(input(\"Digite o primeiro número inteiro: \"))\n",
        "# num2 = int(input(\"Digite o segundo número inteiro: \"))\n",
        "num1 = 20  # Exemplo de entrada\n",
        "num2 = 3  # Exemplo de entrada\n",
        "\n",
        "resultado_divisao_inteira = num1 // num2\n",
        "\n",
        "print(\"O resultado da divisão inteira é:\", resultado_divisao_inteira)"
      ],
      "metadata": {
        "colab": {
          "base_uri": "https://localhost:8080/"
        },
        "id": "uc8fSxt0iZzw",
        "outputId": "b0478521-fcbd-46cd-de7e-af1475a41fc0"
      },
      "execution_count": null,
      "outputs": [
        {
          "output_type": "stream",
          "name": "stdout",
          "text": [
            "O resultado da divisão inteira é: 6\n"
          ]
        }
      ]
    },
    {
      "cell_type": "markdown",
      "source": [
        "**E5. Escreva um programa que calcule o quadrado de um número fornecido pelo usuário.**"
      ],
      "metadata": {
        "id": "Io8ryec5h3TX"
      }
    },
    {
      "cell_type": "code",
      "source": [
        "# num = int(input(\"Digite um número: \"))\n",
        "num = 6  # Exemplo de entrada\n",
        "\n",
        "resultado_quadrado = num ** 2\n",
        "\n",
        "print(\"O quadrado do número é:\", resultado_quadrado)"
      ],
      "metadata": {
        "colab": {
          "base_uri": "https://localhost:8080/"
        },
        "id": "XAUoUIamiwc5",
        "outputId": "d46598f9-cdbd-4bea-bed2-9e6f18c481dc"
      },
      "execution_count": null,
      "outputs": [
        {
          "output_type": "stream",
          "name": "stdout",
          "text": [
            "O quadrado do número é: 36\n"
          ]
        }
      ]
    },
    {
      "cell_type": "markdown",
      "source": [
        "### 2) Float"
      ],
      "metadata": {
        "id": "BT0RRmaNiAgI"
      }
    },
    {
      "cell_type": "markdown",
      "source": [
        "**E6. Escreva um programa que receba dois números flutuantes e realize sua adição.**"
      ],
      "metadata": {
        "id": "yidpXZtUiQ3R"
      }
    },
    {
      "cell_type": "code",
      "source": [
        "# num1 = float(input(\"Digite o primeiro número flutuante: \"))\n",
        "# num2 = float(input(\"Digite o segundo número flutuante: \"))\n",
        "num1 = 2.5  # Exemplo de entrada\n",
        "num2 = 4.5  # Exemplo de entrada\n",
        "\n",
        "resultado_soma = num1 + num2\n",
        "print(\"A soma é:\", resultado_soma)"
      ],
      "metadata": {
        "colab": {
          "base_uri": "https://localhost:8080/"
        },
        "id": "qaMkIQKPlPiW",
        "outputId": "6d857b61-50a9-454a-8519-f49231b07b1d"
      },
      "execution_count": 1,
      "outputs": [
        {
          "output_type": "stream",
          "name": "stdout",
          "text": [
            "A soma é: 7.0\n"
          ]
        }
      ]
    },
    {
      "cell_type": "markdown",
      "source": [
        "**E7. Crie um programa que calcule a média de dois números flutuantes fornecidos pelo usuário.**"
      ],
      "metadata": {
        "id": "l9DOUZEfkkag"
      }
    },
    {
      "cell_type": "code",
      "source": [
        "# num1 = float(input(\"Digite o primeiro número flutuante: \"))\n",
        "# num2 = float(input(\"Digite o segundo número flutuante: \"))\n",
        "\n",
        "num1 = 3.5  # Exemplo de entrada\n",
        "num2 = 7.5  # Exemplo de entrada\n",
        "\n",
        "media = (num1 + num2) / 2\n",
        "\n",
        "print(\"A média é:\", media)"
      ],
      "metadata": {
        "colab": {
          "base_uri": "https://localhost:8080/"
        },
        "id": "mkkaJ68BlZsV",
        "outputId": "0a2a7595-6c89-49b4-e601-71f60f32a86f"
      },
      "execution_count": 2,
      "outputs": [
        {
          "output_type": "stream",
          "name": "stdout",
          "text": [
            "A média é: 5.5\n"
          ]
        }
      ]
    },
    {
      "cell_type": "markdown",
      "source": [
        "**E8. Desenvolva um programa que calcule a potência de um número (base e expoente fornecidos pelo usuário).**"
      ],
      "metadata": {
        "id": "1VqlTFWKk-3J"
      }
    },
    {
      "cell_type": "code",
      "source": [
        "# base = float(input(\"Digite a base: \"))\n",
        "# expoente = float(input(\"Digite o expoente: \"))\n",
        "\n",
        "base = 2.0  # Exemplo de entrada\n",
        "expoente = 3.0  # Exemplo de entrada\n",
        "\n",
        "potencia = base ** expoente\n",
        "\n",
        "print(\"O resultado da potência é:\", potencia)"
      ],
      "metadata": {
        "colab": {
          "base_uri": "https://localhost:8080/"
        },
        "id": "M5ayLTPelhPb",
        "outputId": "251fdda3-fc56-4bc5-fbac-58eb990ba117"
      },
      "execution_count": 3,
      "outputs": [
        {
          "output_type": "stream",
          "name": "stdout",
          "text": [
            "O resultado da potência é: 8.0\n"
          ]
        }
      ]
    },
    {
      "cell_type": "markdown",
      "source": [
        "**E9. Faça um programa que converta a temperatura de Celsius para Fahrenheit.**"
      ],
      "metadata": {
        "id": "MiligUQslFyI"
      }
    },
    {
      "cell_type": "code",
      "source": [
        "# celsius = float(input(\"Digite a temperatura em Celsius: \"))\n",
        "celsius = 30.0  # Exemplo de entrada\n",
        "\n",
        "fahrenheit = (celsius * 9/5) + 32\n",
        "\n",
        "print(f\"{celsius}°C é igual a {fahrenheit}°F\")"
      ],
      "metadata": {
        "colab": {
          "base_uri": "https://localhost:8080/"
        },
        "id": "fpqcswWjlnUb",
        "outputId": "4072a465-4baa-40e0-b0da-140997376495"
      },
      "execution_count": 4,
      "outputs": [
        {
          "output_type": "stream",
          "name": "stdout",
          "text": [
            "30.0°C é igual a 86.0°F\n"
          ]
        }
      ]
    },
    {
      "cell_type": "markdown",
      "source": [
        "**E10. Escreva um programa que calcule a área de um círculo, recebendo o raio como entrada.**"
      ],
      "metadata": {
        "id": "z2VL6SZRlMIY"
      }
    },
    {
      "cell_type": "code",
      "source": [
        "# raio = float(input(\"Digite o raio do círculo: \"))\n",
        "raio = 5.0  # Exemplo de entrada\n",
        "\n",
        "area = 3.14159 * raio ** 2\n",
        "\n",
        "print(\"A área do círculo é:\", area)"
      ],
      "metadata": {
        "id": "7wa2VOFZhTjR",
        "colab": {
          "base_uri": "https://localhost:8080/"
        },
        "outputId": "93f59fb0-446e-49a4-8a59-71c3c4ba15b7"
      },
      "execution_count": 5,
      "outputs": [
        {
          "output_type": "stream",
          "name": "stdout",
          "text": [
            "A área do círculo é: 78.53975\n"
          ]
        }
      ]
    },
    {
      "cell_type": "markdown",
      "source": [
        "### 3) Strings"
      ],
      "metadata": {
        "id": "C76oMvAplx4w"
      }
    },
    {
      "cell_type": "markdown",
      "source": [
        "**E11. Escreva um programa que receba uma string do usuário e a converta para maiúsculas.**"
      ],
      "metadata": {
        "id": "Eh6VN4b5l0j3"
      }
    },
    {
      "cell_type": "code",
      "source": [
        "# texto = input(\"Digite um texto: \")\n",
        "texto = \"Olá, mundo!\"  # Exemplo de entrada\n",
        "\n",
        "texto_maiusculas = texto.upper()\n",
        "\n",
        "print(\"Texto em maiúsculas:\", texto_maiusculas)"
      ],
      "metadata": {
        "colab": {
          "base_uri": "https://localhost:8080/"
        },
        "id": "TC6fymc3nuge",
        "outputId": "fd2fc3e8-b34f-497a-bbba-635c3303248e"
      },
      "execution_count": 6,
      "outputs": [
        {
          "output_type": "stream",
          "name": "stdout",
          "text": [
            "Texto em maiúsculas: OLÁ, MUNDO!\n"
          ]
        }
      ]
    },
    {
      "cell_type": "markdown",
      "source": [
        "**E12. Crie um programa que receba o nome completo do usuário e imprima o nome com todas as letras minúsculas.**"
      ],
      "metadata": {
        "id": "0m6HJljJl04b"
      }
    },
    {
      "cell_type": "code",
      "source": [
        "# nome_completo = input(\"Digite seu nome completo: \")\n",
        "nome_completo = \"Fulano de Tal\"  # Exemplo de entrada\n",
        "\n",
        "nome_minusculas = nome_completo.lower()\n",
        "\n",
        "print(\"Nome em minúsculas:\", nome_minusculas)"
      ],
      "metadata": {
        "colab": {
          "base_uri": "https://localhost:8080/"
        },
        "id": "Bto0KLVUn591",
        "outputId": "51c89e6e-7eac-4278-c4ff-2ce5afb0e28f"
      },
      "execution_count": 7,
      "outputs": [
        {
          "output_type": "stream",
          "name": "stdout",
          "text": [
            "Nome em minúsculas: fulano de tal\n"
          ]
        }
      ]
    },
    {
      "cell_type": "markdown",
      "source": [
        "**E13. Desenvolva um programa que peça ao usuário para inserir uma frase e, em seguida, imprima esta frase sem espaços em branco no início e no final.**"
      ],
      "metadata": {
        "id": "dIsP-ogBl1aB"
      }
    },
    {
      "cell_type": "code",
      "source": [
        "# frase = input(\"Digite uma frase: \")\n",
        "frase = \"  Olá, mundo!  \"  # Exemplo de entrada\n",
        "\n",
        "frase_sem_espacos = frase.strip()\n",
        "\n",
        "print(\"Frase sem espaços no início e no final:\", frase_sem_espacos)"
      ],
      "metadata": {
        "colab": {
          "base_uri": "https://localhost:8080/"
        },
        "id": "XcB0U1zwn_K5",
        "outputId": "b4d40eeb-3814-4f5e-f390-63f0d5e473de"
      },
      "execution_count": 8,
      "outputs": [
        {
          "output_type": "stream",
          "name": "stdout",
          "text": [
            "Frase sem espaços no início e no final: Olá, mundo!\n"
          ]
        }
      ]
    },
    {
      "cell_type": "markdown",
      "source": [
        "**E14. Faça um programa que peça ao usuário para digitar uma data no formato \"dd/mm/aaaa\" e, em seguida, imprima o dia, o mês e o ano separadamente.**"
      ],
      "metadata": {
        "id": "soR4_2sYl19L"
      }
    },
    {
      "cell_type": "code",
      "source": [
        "# data = input(\"Digite uma data no formato dd/mm/aaaa: \")\n",
        "data = \"01/01/2024\"  # Exemplo de entrada\n",
        "\n",
        "dia, mes, ano = data.split(\"/\")\n",
        "\n",
        "print(\"Dia:\", dia)\n",
        "print(\"Mês:\", mes)\n",
        "print(\"Ano:\", ano)"
      ],
      "metadata": {
        "colab": {
          "base_uri": "https://localhost:8080/"
        },
        "id": "D4eXAcKEoNaD",
        "outputId": "524de713-6729-4a35-c7a3-f936dc2b883d"
      },
      "execution_count": 9,
      "outputs": [
        {
          "output_type": "stream",
          "name": "stdout",
          "text": [
            "Dia: 01\n",
            "Mês: 01\n",
            "Ano: 2024\n"
          ]
        }
      ]
    },
    {
      "cell_type": "markdown",
      "source": [
        "**E15. Escreva um programa que concatene duas strings fornecidas pelo usuário.**"
      ],
      "metadata": {
        "id": "o_lyVnVCl2Sj"
      }
    },
    {
      "cell_type": "code",
      "source": [
        "# parte1 = input(\"Digite a primeira parte do texto: \")\n",
        "# parte2 = input(\"Digite a segunda parte do texto: \")\n",
        "parte1 = \"Olá,\"  # Exemplo de entrada\n",
        "parte2 = \" mundo!\"  # Exemplo de entrada\n",
        "\n",
        "texto_concatenado = parte1 + parte2\n",
        "\n",
        "print(\"Texto concatenado:\", texto_concatenado)"
      ],
      "metadata": {
        "colab": {
          "base_uri": "https://localhost:8080/"
        },
        "id": "Ov0jRqZwoUW4",
        "outputId": "b761bd56-aee4-451c-f51a-4a4c95d498d5"
      },
      "execution_count": 10,
      "outputs": [
        {
          "output_type": "stream",
          "name": "stdout",
          "text": [
            "Texto concatenado: Olá, mundo!\n"
          ]
        }
      ]
    },
    {
      "cell_type": "markdown",
      "source": [
        "### 4) Booleans"
      ],
      "metadata": {
        "id": "WNwuCGP7l2ub"
      }
    },
    {
      "cell_type": "markdown",
      "source": [
        "**E16. Escreva um programa que avalie duas expressões booleanas inseridas pelo usuário e retorne o resultado da operação AND entre elas.**"
      ],
      "metadata": {
        "id": "dGLREG2hmBCi"
      }
    },
    {
      "cell_type": "code",
      "source": [
        "# Exemplo de entrada\n",
        "valor1 = True\n",
        "valor2 = False\n",
        "\n",
        "resultado_and = valor1 and valor2\n",
        "\n",
        "print(\"Resultado do AND lógico:\", resultado_and)"
      ],
      "metadata": {
        "colab": {
          "base_uri": "https://localhost:8080/"
        },
        "id": "o_8Jp6dVobsJ",
        "outputId": "66443021-39ad-44c6-bb46-c0f851e5b034"
      },
      "execution_count": 11,
      "outputs": [
        {
          "output_type": "stream",
          "name": "stdout",
          "text": [
            "Resultado do AND lógico: False\n"
          ]
        }
      ]
    },
    {
      "cell_type": "markdown",
      "source": [
        "**E17. Crie um programa que receba dois valores booleanos do usuário e retorne o resultado da operação OR.**"
      ],
      "metadata": {
        "id": "joQ-DivbmBgf"
      }
    },
    {
      "cell_type": "code",
      "source": [
        "# Exemplo de entrada\n",
        "resultado_or = valor1 or valor2\n",
        "\n",
        "print(\"Resultado do OR lógico:\", resultado_or)"
      ],
      "metadata": {
        "colab": {
          "base_uri": "https://localhost:8080/"
        },
        "id": "5Ww4Dd7tojn7",
        "outputId": "df3b1634-4e3e-4ebe-d6f8-6da7d1228be7"
      },
      "execution_count": 14,
      "outputs": [
        {
          "output_type": "stream",
          "name": "stdout",
          "text": [
            "Resultado do OR lógico: True\n"
          ]
        }
      ]
    },
    {
      "cell_type": "markdown",
      "source": [
        "**E18. Desenvolva um programa que peça ao usuário para inserir um valor booleano e, em seguida, inverta esse valor.**"
      ],
      "metadata": {
        "id": "br1iHBeMmB38"
      }
    },
    {
      "cell_type": "code",
      "source": [
        "# Exemplo de entrada\n",
        "resultado_not = not valor1\n",
        "\n",
        "print(\"Resultado do NOT lógico:\", resultado_not)"
      ],
      "metadata": {
        "colab": {
          "base_uri": "https://localhost:8080/"
        },
        "id": "qh5tBBG5opE5",
        "outputId": "d2b676ca-7bad-4619-86e1-4988ba7b3900"
      },
      "execution_count": 13,
      "outputs": [
        {
          "output_type": "stream",
          "name": "stdout",
          "text": [
            "Resultado do NOT lógico: False\n"
          ]
        }
      ]
    },
    {
      "cell_type": "markdown",
      "source": [
        "**E19. Faça um programa que compare se dois números fornecidos pelo usuário são iguais.**"
      ],
      "metadata": {
        "id": "hmC-gZlUmCO3"
      }
    },
    {
      "cell_type": "code",
      "source": [
        "# Exemplo de entrada\n",
        "num1 = 5\n",
        "num2 = 5\n",
        "\n",
        "resultado_igualdade = (num1 == num2)\n",
        "\n",
        "print(\"Resultado da igualdade:\", resultado_igualdade)"
      ],
      "metadata": {
        "colab": {
          "base_uri": "https://localhost:8080/"
        },
        "id": "ItkxN58FoxWm",
        "outputId": "bcbf5ec3-da08-4e61-c4b4-06100a0512b1"
      },
      "execution_count": 15,
      "outputs": [
        {
          "output_type": "stream",
          "name": "stdout",
          "text": [
            "Resultado da igualdade: True\n"
          ]
        }
      ]
    },
    {
      "cell_type": "markdown",
      "source": [
        "**E20. Escreva um programa que verifique se dois números fornecidos pelo usuário são diferentes.**"
      ],
      "metadata": {
        "id": "PvGEOYPtmCpM"
      }
    },
    {
      "cell_type": "code",
      "source": [
        "# Exemplo de entrada\n",
        "resultado_diferenca = (num1 != num2)\n",
        "\n",
        "print(\"Resultado da diferença:\", resultado_diferenca)"
      ],
      "metadata": {
        "colab": {
          "base_uri": "https://localhost:8080/"
        },
        "id": "dqEUwGYKo1Cx",
        "outputId": "3b62cf53-a670-4309-baaa-dc3e12201a59"
      },
      "execution_count": 16,
      "outputs": [
        {
          "output_type": "stream",
          "name": "stdout",
          "text": [
            "Resultado da diferença: False\n"
          ]
        }
      ]
    },
    {
      "cell_type": "markdown",
      "source": [
        "#### 5) TypeError"
      ],
      "metadata": {
        "id": "VOkya1vBpLJW"
      }
    },
    {
      "cell_type": "code",
      "source": [],
      "metadata": {
        "id": "-Ga_-wx9pPAf"
      },
      "execution_count": null,
      "outputs": []
    }
  ]
}