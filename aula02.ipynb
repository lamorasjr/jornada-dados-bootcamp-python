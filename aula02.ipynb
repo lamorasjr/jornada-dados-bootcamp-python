{
  "nbformat": 4,
  "nbformat_minor": 0,
  "metadata": {
    "colab": {
      "provenance": [],
      "authorship_tag": "ABX9TyNRX4DgsylmZZ6ffxCQPPb0"
    },
    "kernelspec": {
      "name": "python3",
      "display_name": "Python 3"
    },
    "language_info": {
      "name": "python"
    }
  },
  "cells": [
    {
      "cell_type": "markdown",
      "source": [
        "# Bootcamp de Python para Dados ([Github](https://github.com/lvgalvao/data-engineering-roadmap/tree/main/Bootcamp%20-%20Python%20para%20dados))\n",
        "\n",
        "## Aula 02: TypeError, Type Check, Type Conversion, try-except e if"
      ],
      "metadata": {
        "id": "kqQ4nHemb7RU"
      }
    },
    {
      "cell_type": "markdown",
      "source": [
        "#### 1) Inteiros\n"
      ],
      "metadata": {
        "id": "tLTIRGQBddB0"
      }
    },
    {
      "cell_type": "markdown",
      "source": [
        "E1. Escreva um programa que soma dois números inteiros inseridos pelo usuário."
      ],
      "metadata": {
        "id": "50BfErsneRW_"
      }
    },
    {
      "cell_type": "code",
      "source": [
        "#inteiro_1 = int(input(\"Digite o primeiro numero: \"))\n",
        "#inteiro_2 = int(input(\"Digite o segundo numero: \"))\n",
        "inteiro_1 = 5\n",
        "inteiro_2 = 7\n",
        "\n",
        "\n",
        "soma = inteiro_1 + inteiro_2\n",
        "\n",
        "print(f\"A soma dos numeros é: {soma}\")"
      ],
      "metadata": {
        "colab": {
          "base_uri": "https://localhost:8080/"
        },
        "id": "lPzq7XUBdRvX",
        "outputId": "c11f8fad-4fca-4784-d6a2-4cbce4bda34b"
      },
      "execution_count": null,
      "outputs": [
        {
          "output_type": "stream",
          "name": "stdout",
          "text": [
            "A soma dos numeros é: 12\n"
          ]
        }
      ]
    },
    {
      "cell_type": "markdown",
      "source": [
        "E2. Crie um programa que receba um número do usuário e calcule o resto da divisão desse número por 5."
      ],
      "metadata": {
        "id": "HpiLUymHeJvQ"
      }
    },
    {
      "cell_type": "code",
      "source": [
        "#num1 = int(input(\"Digite um numero \"))\n",
        "num1 = 13\n",
        "\n",
        "resto = num1 % 5\n",
        "\n",
        "print(f\"O resto da divisao e {resto}\")"
      ],
      "metadata": {
        "colab": {
          "base_uri": "https://localhost:8080/"
        },
        "id": "-T4PHHvJdwif",
        "outputId": "92abfb06-504e-4708-e383-fe1789eb0f8e"
      },
      "execution_count": null,
      "outputs": [
        {
          "output_type": "stream",
          "name": "stdout",
          "text": [
            "O resto da divisao e 3\n"
          ]
        }
      ]
    },
    {
      "cell_type": "markdown",
      "source": [
        "E3. Desenvolva um programa que multiplique dois números fornecidos pelo usuário e mostre o resultado."
      ],
      "metadata": {
        "id": "CXVx0FGEhyA0"
      }
    },
    {
      "cell_type": "code",
      "source": [
        "# num1 = int(input(\"Digite o primeiro número: \"))\n",
        "# num2 = int(input(\"Digite o segundo número: \"))\n",
        "num1 = 5  # Exemplo de entrada\n",
        "num2 = 7  # Exemplo de entrada\n",
        "\n",
        "resultado_multiplicacao = num1 * num2\n",
        "\n",
        "print(\"O resultado da multiplicação é:\", resultado_multiplicacao)"
      ],
      "metadata": {
        "colab": {
          "base_uri": "https://localhost:8080/"
        },
        "id": "V_N0T_GSiR2H",
        "outputId": "eb54d4c9-eabb-4144-dbac-200299dd26c8"
      },
      "execution_count": null,
      "outputs": [
        {
          "output_type": "stream",
          "name": "stdout",
          "text": [
            "O resultado da multiplicação é: 35\n"
          ]
        }
      ]
    },
    {
      "cell_type": "markdown",
      "source": [
        "E4. Faça um programa que peça dois números inteiros e imprima a divisão inteira do primeiro pelo segundo."
      ],
      "metadata": {
        "id": "AzdhwJjgh161"
      }
    },
    {
      "cell_type": "code",
      "source": [
        "# num1 = int(input(\"Digite o primeiro número inteiro: \"))\n",
        "# num2 = int(input(\"Digite o segundo número inteiro: \"))\n",
        "num1 = 20  # Exemplo de entrada\n",
        "num2 = 3  # Exemplo de entrada\n",
        "\n",
        "resultado_divisao_inteira = num1 // num2\n",
        "\n",
        "print(\"O resultado da divisão inteira é:\", resultado_divisao_inteira)"
      ],
      "metadata": {
        "colab": {
          "base_uri": "https://localhost:8080/"
        },
        "id": "uc8fSxt0iZzw",
        "outputId": "b0478521-fcbd-46cd-de7e-af1475a41fc0"
      },
      "execution_count": null,
      "outputs": [
        {
          "output_type": "stream",
          "name": "stdout",
          "text": [
            "O resultado da divisão inteira é: 6\n"
          ]
        }
      ]
    },
    {
      "cell_type": "markdown",
      "source": [
        "E5. Escreva um programa que calcule o quadrado de um número fornecido pelo usuário."
      ],
      "metadata": {
        "id": "Io8ryec5h3TX"
      }
    },
    {
      "cell_type": "code",
      "source": [
        "# num = int(input(\"Digite um número: \"))\n",
        "num = 6  # Exemplo de entrada\n",
        "\n",
        "resultado_quadrado = num ** 2\n",
        "\n",
        "print(\"O quadrado do número é:\", resultado_quadrado)"
      ],
      "metadata": {
        "colab": {
          "base_uri": "https://localhost:8080/"
        },
        "id": "XAUoUIamiwc5",
        "outputId": "d46598f9-cdbd-4bea-bed2-9e6f18c481dc"
      },
      "execution_count": null,
      "outputs": [
        {
          "output_type": "stream",
          "name": "stdout",
          "text": [
            "O quadrado do número é: 36\n"
          ]
        }
      ]
    },
    {
      "cell_type": "markdown",
      "source": [
        "#### 2) Float"
      ],
      "metadata": {
        "id": "BT0RRmaNiAgI"
      }
    },
    {
      "cell_type": "markdown",
      "source": [],
      "metadata": {
        "id": "yidpXZtUiQ3R"
      }
    },
    {
      "cell_type": "code",
      "source": [],
      "metadata": {
        "id": "7wa2VOFZhTjR"
      },
      "execution_count": null,
      "outputs": []
    }
  ]
}